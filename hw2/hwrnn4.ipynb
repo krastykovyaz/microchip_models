{
 "cells": [
  {
   "cell_type": "code",
   "execution_count": 1,
   "id": "0a8bdb5e",
   "metadata": {
    "id": "-YlRH3mQM9tf",
    "papermill": {
     "duration": 0.027731,
     "end_time": "2022-12-27T02:42:28.397401",
     "exception": false,
     "start_time": "2022-12-27T02:42:28.369670",
     "status": "completed"
    },
    "tags": []
   },
   "outputs": [],
   "source": [
    "# %matplotlib inline"
   ]
  },
  {
   "cell_type": "code",
   "execution_count": 20,
   "id": "0add3861",
   "metadata": {
    "id": "MIEGXF8oM9tt",
    "papermill": {
     "duration": 1.520155,
     "end_time": "2022-12-27T02:42:29.924019",
     "exception": false,
     "start_time": "2022-12-27T02:42:28.403864",
     "status": "completed"
    },
    "tags": []
   },
   "outputs": [],
   "source": [
    "from io import open\n",
    "import unicodedata\n",
    "import string\n",
    "import re\n",
    "import random\n",
    "\n",
    "import torch\n",
    "import torch.nn as nn\n",
    "from torch import optim\n",
    "import torch.nn.functional as F\n",
    "\n",
    "device = torch.device(\"cuda\" if torch.cuda.is_available() else \"cpu\")"
   ]
  },
  {
   "cell_type": "code",
   "execution_count": 21,
   "id": "c43d23e5",
   "metadata": {
    "id": "kyNnJyruM9t1",
    "papermill": {
     "duration": 0.016024,
     "end_time": "2022-12-27T02:42:29.945589",
     "exception": false,
     "start_time": "2022-12-27T02:42:29.929565",
     "status": "completed"
    },
    "tags": []
   },
   "outputs": [],
   "source": [
    "SOS_token = 0\n",
    "EOS_token = 1\n",
    "\n",
    "\n",
    "class Lang:\n",
    "    def __init__(self, name):\n",
    "        self.name = name\n",
    "        self.word2index = {}\n",
    "        self.word2count = {}\n",
    "        self.index2word = {0: \"SOS\", 1: \"EOS\"}\n",
    "        self.n_words = 2  # Count SOS and EOS\n",
    "\n",
    "    def addSentence(self, sentence):\n",
    "        for word in sentence.split(' '):\n",
    "            self.addWord(word)\n",
    "\n",
    "    def addWord(self, word):\n",
    "        if word not in self.word2index:\n",
    "            self.word2index[word] = self.n_words\n",
    "            self.word2count[word] = 1\n",
    "            self.index2word[self.n_words] = word\n",
    "            self.n_words += 1\n",
    "        else:\n",
    "            self.word2count[word] += 1"
   ]
  },
  {
   "cell_type": "code",
   "execution_count": 22,
   "id": "3512a5d2",
   "metadata": {
    "id": "FXKs8j4bM9t6",
    "papermill": {
     "duration": 0.014103,
     "end_time": "2022-12-27T02:42:29.964955",
     "exception": false,
     "start_time": "2022-12-27T02:42:29.950852",
     "status": "completed"
    },
    "tags": []
   },
   "outputs": [],
   "source": [
    "# Turn a Unicode string to plain ASCII, thanks to\n",
    "# http://stackoverflow.com/a/518232/2809427\n",
    "def unicodeToAscii(s):\n",
    "    return ''.join(\n",
    "        c for c in unicodedata.normalize('NFD', s)\n",
    "        if unicodedata.category(c) != 'Mn'\n",
    "    )\n",
    "\n",
    "# Lowercase, trim, and remove non-letter characters\n",
    "\n",
    "\n",
    "def normalizeString(s):\n",
    "    s = unicodeToAscii(s.lower().strip())\n",
    "    s = re.sub(r\"([.!?])\", r\" \\1\", s)\n",
    "    s = re.sub(r\"[^a-zA-Zа-яёъА-ЯЁЪ.!?]+\", r\" \", s)\n",
    "    return s"
   ]
  },
  {
   "cell_type": "code",
   "execution_count": 23,
   "id": "5fd650ff-969f-4177-aabe-edfb28463f03",
   "metadata": {},
   "outputs": [],
   "source": [
    "def load_opensubtitles_data(file_path_ru, file_path_en, num_samples=100_000):\n",
    "    input_texts = []\n",
    "    with open(file_path_en, 'r', encoding='utf-8') as f:\n",
    "        lines = f.readlines()\n",
    "        for line in lines[:num_samples]:\n",
    "            en_text = line.strip()\n",
    "            input_texts.append(normalizeString(en_text))\n",
    "    target_texts = []\n",
    "    with open(file_path_ru, 'r', encoding='utf-8') as f:\n",
    "        lines = f.readlines()\n",
    "        for line in lines[:num_samples]:\n",
    "            ru_text = line.strip()\n",
    "            target_texts.append(normalizeString(ru_text))\n",
    "    return input_texts, target_texts\n",
    "\n",
    "def load_anki_data(file_path, num_samples=100_000):\n",
    "    input_texts = []\n",
    "    target_texts = []\n",
    "    with open(file_path, 'r', encoding='utf-8') as f:\n",
    "        lines = f.readlines()\n",
    "        for line in lines[:num_samples]:\n",
    "            en_text, ru_text = line.strip().split('\\t')[:-1]\n",
    "            input_texts.append(normalizeString(en_text))\n",
    "            target_texts.append(normalizeString(ru_text)) \n",
    "    return input_texts, target_texts"
   ]
  },
  {
   "cell_type": "code",
   "execution_count": 24,
   "id": "4e6bba77",
   "metadata": {
    "id": "D8T4VxZeM9t-",
    "papermill": {
     "duration": 0.015213,
     "end_time": "2022-12-27T02:42:29.985557",
     "exception": false,
     "start_time": "2022-12-27T02:42:29.970344",
     "status": "completed"
    },
    "tags": []
   },
   "outputs": [],
   "source": [
    "def readLangs(lang1, lang2, reverse=False):\n",
    "    print(\"Reading lines...\")\n",
    "\n",
    "    # lines = open('anki_data/rus.txt', encoding='utf-8').\\\n",
    "    #     read().strip().split('\\n')\n",
    "\n",
    "    # pairs = [[normalizeString(s) for s in l.split('\\t')][0:2] for l in lines]\n",
    "    anki_input_texts, anki_target_texts = load_anki_data('anki_data/rus.txt')\n",
    "    opensub_input_texts, opensub_target_texts = load_opensubtitles_data('opensubtitles_data/OpenSubtitles.en-ru.ru',\n",
    "                                                                 'opensubtitles_data/OpenSubtitles.en-ru.en')\n",
    "    pairs = list(zip(anki_input_texts, anki_target_texts)) + list(zip(opensub_input_texts, opensub_target_texts))\n",
    "    if reverse:\n",
    "        pairs = [list(reversed(p)) for p in pairs]\n",
    "        input_lang = Lang(lang2)\n",
    "        output_lang = Lang(lang1)\n",
    "    else:\n",
    "        input_lang = Lang(lang1)\n",
    "        output_lang = Lang(lang2)\n",
    "\n",
    "    return input_lang, output_lang, pairs"
   ]
  },
  {
   "cell_type": "code",
   "execution_count": 25,
   "id": "851fa8a8",
   "metadata": {
    "id": "eBOwgEBdM9uB",
    "papermill": {
     "duration": 0.014588,
     "end_time": "2022-12-27T02:42:30.005251",
     "exception": false,
     "start_time": "2022-12-27T02:42:29.990663",
     "status": "completed"
    },
    "tags": []
   },
   "outputs": [],
   "source": [
    "MAX_LENGTH = 10\n",
    "\n",
    "eng_prefixes = (\n",
    "    \"i am \", \"i m \",\n",
    "    \"he is\", \"he s \",\n",
    "    \"she is\", \"she s\",\n",
    "    \"you are\", \"you re \",\n",
    "    \"we are\", \"we re \",\n",
    "    \"they are\", \"they re \"\n",
    ")\n",
    "\n",
    "\n",
    "def filterPair(p, n=MAX_LENGTH ):\n",
    "    return len(p[0].split(' ')) < n and \\\n",
    "        len(p[1].split(' ')) < n and \\\n",
    "        p[0].startswith(eng_prefixes)\n",
    "\n",
    "\n",
    "def filterPairs(pairs, n=MAX_LENGTH):\n",
    "    return [pair for pair in pairs if filterPair(pair,n)]"
   ]
  },
  {
   "cell_type": "code",
   "execution_count": 26,
   "id": "71c54fdd",
   "metadata": {
    "executionInfo": {
     "elapsed": 5168,
     "status": "ok",
     "timestamp": 1585810276997,
     "user": {
      "displayName": "Алексей Кузьмин",
      "photoUrl": "",
      "userId": "13824739836143424630"
     },
     "user_tz": -180
    },
    "id": "6dZOGjd5M9uE",
    "outputId": "823ec161-19b3-468c-8630-93de6e8aab47",
    "papermill": {
     "duration": 18.289041,
     "end_time": "2022-12-27T02:42:48.299463",
     "exception": false,
     "start_time": "2022-12-27T02:42:30.010422",
     "status": "completed"
    },
    "tags": []
   },
   "outputs": [
    {
     "name": "stdout",
     "output_type": "stream",
     "text": [
      "Reading lines...\n",
      "Read 123924 sentence pairs\n",
      "Trimmed to 10000 sentence pairs\n",
      "Counting words...\n",
      "Counted words:\n",
      "eng 2035\n",
      "rus 4361\n",
      "('i m trying to quit .', 'я пытаюсь бросить .')\n"
     ]
    }
   ],
   "source": [
    "def prepareData(lang1, lang2, reverse=False):\n",
    "    input_lang, output_lang, pairs = readLangs(lang1, lang2, reverse)\n",
    "    print(\"Read %s sentence pairs\" % len(pairs))\n",
    "    pairs = filterPairs(pairs)[:10000]\n",
    "    print(\"Trimmed to %s sentence pairs\" % len(pairs))\n",
    "    print(\"Counting words...\")\n",
    "    for pair in pairs:\n",
    "        input_lang.addSentence(pair[0])\n",
    "        output_lang.addSentence(pair[1])\n",
    "    print(\"Counted words:\")\n",
    "    print(input_lang.name, input_lang.n_words)\n",
    "    print(output_lang.name, output_lang.n_words)\n",
    "    return input_lang, output_lang, pairs\n",
    "\n",
    "\n",
    "input_lang, output_lang, pairs = prepareData('eng', 'rus', False)\n",
    "print(random.choice(pairs))"
   ]
  },
  {
   "cell_type": "markdown",
   "id": "43f6bcae",
   "metadata": {
    "id": "vgtWqznCM9uH",
    "papermill": {
     "duration": 0.005259,
     "end_time": "2022-12-27T02:42:48.311786",
     "exception": false,
     "start_time": "2022-12-27T02:42:48.306527",
     "status": "completed"
    },
    "tags": []
   },
   "source": [
    "The Encoder\n",
    "-----------\n",
    "\n",
    "\n",
    "\n"
   ]
  },
  {
   "cell_type": "code",
   "execution_count": 27,
   "id": "0aa404e3",
   "metadata": {
    "id": "m9vm9QBWM9uI",
    "papermill": {
     "duration": 0.01598,
     "end_time": "2022-12-27T02:42:48.332949",
     "exception": false,
     "start_time": "2022-12-27T02:42:48.316969",
     "status": "completed"
    },
    "tags": []
   },
   "outputs": [],
   "source": [
    "class EncoderRNN(nn.Module):\n",
    "    def __init__(self, input_size, hidden_size):\n",
    "        super(EncoderRNN, self).__init__()\n",
    "        self.hidden_size = hidden_size\n",
    "\n",
    "        self.embedding = nn.Embedding(input_size, hidden_size)\n",
    "        self.gru = nn.GRU(hidden_size, hidden_size)\n",
    "  \n",
    "    def forward(self, input, hidden):\n",
    "        embedded = self.embedding(input).view(1, 1, -1)\n",
    "        output = embedded\n",
    "        output, hidden = self.gru(output, hidden)\n",
    "        return output, hidden\n",
    "\n",
    "    def initHidden(self):\n",
    "        return torch.zeros(1, 1, self.hidden_size, device=device)"
   ]
  },
  {
   "cell_type": "markdown",
   "id": "3187340c",
   "metadata": {
    "id": "FwLTlgSyM9uK",
    "papermill": {
     "duration": 0.005257,
     "end_time": "2022-12-27T02:42:48.343442",
     "exception": false,
     "start_time": "2022-12-27T02:42:48.338185",
     "status": "completed"
    },
    "tags": []
   },
   "source": [
    "The Decoder\n",
    "-----------\n",
    "\n",
    "\n"
   ]
  },
  {
   "cell_type": "code",
   "execution_count": 28,
   "id": "8ac053f0",
   "metadata": {
    "id": "PFbuUL1LM9uL",
    "papermill": {
     "duration": 0.019992,
     "end_time": "2022-12-27T02:42:48.368837",
     "exception": false,
     "start_time": "2022-12-27T02:42:48.348845",
     "status": "completed"
    },
    "tags": []
   },
   "outputs": [],
   "source": [
    "class AttnDecoderRNN(nn.Module):\n",
    "    def __init__(self, hidden_size, output_size, dropout_p=0.1, max_length=MAX_LENGTH):\n",
    "        super(AttnDecoderRNN, self).__init__()\n",
    "        self.hidden_size = hidden_size\n",
    "        self.output_size = output_size\n",
    "        self.dropout_p = dropout_p\n",
    "        self.max_length = max_length\n",
    "\n",
    "        self.embedding = nn.Embedding(self.output_size, self.hidden_size)\n",
    "        self.wh = nn.Linear(self.hidden_size,self.hidden_size,bias=False)\n",
    "        self.we = nn.Linear(self.hidden_size,self.hidden_size,bias=False)\n",
    "        self.attn_combine = nn.Linear(self.hidden_size * 2, self.hidden_size,bias=False)\n",
    "        self.dropout = nn.Dropout(self.dropout_p)\n",
    "        self.gru = nn.GRU(self.hidden_size, self.hidden_size)\n",
    "        self.out = nn.Linear(self.hidden_size, self.output_size)\n",
    "        self.weight = nn.Parameter(torch.FloatTensor(1,1, self.hidden_size))\n",
    "        \n",
    "\n",
    "    def forward(self, input, hidden, encoder_outputs):\n",
    "        # [1,1] [1,1,512] [10,512]\n",
    "        embedded = self.embedding(input).view(1, 1, -1)\n",
    "        embedded = self.dropout(embedded)\n",
    "        \n",
    "        attn  = torch.tanh(self.wh(hidden)+self.we(encoder_outputs.unsqueeze(0)))\n",
    "        scores = torch.bmm(self.weight,attn.transpose(1,2))\n",
    "        weights = F.log_softmax(scores,2)\n",
    "        \n",
    "        context = torch.bmm(weights,encoder_outputs.unsqueeze(0))\n",
    "\n",
    "        output = torch.cat((embedded, context), 2)\n",
    "        output = self.attn_combine(output)\n",
    "                           \n",
    "        output = F.relu(output)\n",
    "        output, hidden = self.gru(output, hidden)\n",
    "\n",
    "        output = F.log_softmax(self.out(output[0]), dim=1)\n",
    "        return output, hidden, weights\n",
    "\n",
    "    def initHidden(self):\n",
    "        return torch.zeros(1, 1, self.hidden_size, device=device)"
   ]
  },
  {
   "cell_type": "code",
   "execution_count": 29,
   "id": "30cfdc96",
   "metadata": {
    "_kg_hide-input": false,
    "id": "z6gGPtXFM9uQ",
    "papermill": {
     "duration": 0.014107,
     "end_time": "2022-12-27T02:42:48.388207",
     "exception": false,
     "start_time": "2022-12-27T02:42:48.374100",
     "status": "completed"
    },
    "tags": []
   },
   "outputs": [],
   "source": [
    "def indexesFromSentence(lang, sentence):\n",
    "    return [lang.word2index[word] for word in sentence.split(' ')]\n",
    "\n",
    "\n",
    "def tensorFromSentence(lang, sentence):\n",
    "    indexes = indexesFromSentence(lang, sentence)\n",
    "    indexes.append(EOS_token)\n",
    "    return torch.tensor(indexes, dtype=torch.long, device=device).view(-1, 1)\n",
    "\n",
    "\n",
    "def tensorsFromPair(pair):\n",
    "    input_tensor = tensorFromSentence(input_lang, pair[0])\n",
    "    target_tensor = tensorFromSentence(output_lang, pair[1])\n",
    "    return (input_tensor, target_tensor)"
   ]
  },
  {
   "cell_type": "code",
   "execution_count": 30,
   "id": "b72dd1fc",
   "metadata": {
    "id": "8Fn8VDv8M9uS",
    "papermill": {
     "duration": 0.018249,
     "end_time": "2022-12-27T02:42:48.411704",
     "exception": false,
     "start_time": "2022-12-27T02:42:48.393455",
     "status": "completed"
    },
    "tags": []
   },
   "outputs": [],
   "source": [
    "def train(input_tensor, target_tensor, encoder, decoder, \n",
    "          encoder_optimizer, decoder_optimizer, \n",
    "          criterion, max_length=MAX_LENGTH,teacher_forcing_ratio = 0.5):\n",
    "    encoder_hidden = encoder.initHidden()\n",
    "\n",
    "    encoder_optimizer.zero_grad()\n",
    "    decoder_optimizer.zero_grad()\n",
    "\n",
    "    input_length = input_tensor.size(0)\n",
    "    target_length = target_tensor.size(0)\n",
    "\n",
    "    encoder_outputs = torch.zeros(max_length, encoder.hidden_size, device=device)\n",
    "\n",
    "    loss = 0\n",
    "    \n",
    "    for ei in range(input_length):\n",
    "        encoder_output, encoder_hidden = encoder(\n",
    "            input_tensor[ei], encoder_hidden)\n",
    "        encoder_outputs[ei] = encoder_output[0, 0]\n",
    "    decoder_input = torch.tensor([[SOS_token]], device=device)\n",
    "    decoder_hidden = encoder_hidden\n",
    "\n",
    "    use_teacher_forcing = True if random.random() < teacher_forcing_ratio else False\n",
    "\n",
    "    if use_teacher_forcing:\n",
    "        # Teacher forcing: Feed the target as the next input\n",
    "        for di in range(target_length):\n",
    "            decoder_output, decoder_hidden, decoder_attention = decoder(\n",
    "                decoder_input, decoder_hidden, encoder_outputs)\n",
    "            loss += criterion(decoder_output, target_tensor[di])\n",
    "            decoder_input = target_tensor[di]  # Teacher forcing\n",
    "\n",
    "    else:\n",
    "        # Without teacher forcing: use its own predictions as the next input\n",
    "        for di in range(target_length):\n",
    "            decoder_output, decoder_hidden, decoder_attention = decoder(\n",
    "                decoder_input, decoder_hidden, encoder_outputs)\n",
    "            topv, topi = decoder_output.topk(1)\n",
    "            decoder_input = topi.squeeze().detach()  # detach from history as input\n",
    "\n",
    "            loss += criterion(decoder_output, target_tensor[di])\n",
    "            if decoder_input.item() == EOS_token:\n",
    "                break\n",
    "\n",
    "    loss.backward()\n",
    "    kc =5 + 100*(1-teacher_forcing_ratio)\n",
    "    torch.nn.utils.clip_grad_norm_(encoder.parameters(), kc)\n",
    "    torch.nn.utils.clip_grad_norm_(decoder.parameters(), kc)\n",
    "                                   \n",
    "    encoder_optimizer.step()\n",
    "    decoder_optimizer.step()\n",
    "\n",
    "    return loss.item() / target_length"
   ]
  },
  {
   "cell_type": "code",
   "execution_count": 31,
   "id": "feddc112",
   "metadata": {
    "id": "EKsdwPmSM9uU",
    "papermill": {
     "duration": 0.013959,
     "end_time": "2022-12-27T02:42:48.430927",
     "exception": false,
     "start_time": "2022-12-27T02:42:48.416968",
     "status": "completed"
    },
    "tags": []
   },
   "outputs": [],
   "source": [
    "import time\n",
    "import math\n",
    "\n",
    "\n",
    "def asMinutes(s):\n",
    "    m = math.floor(s / 60)\n",
    "    s -= m * 60\n",
    "    return '%dm %ds' % (m, s)\n",
    "\n",
    "\n",
    "def timeSince(since, percent):\n",
    "    now = time.time()\n",
    "    s = now - since\n",
    "    es = s / (percent)\n",
    "    rs = es - s\n",
    "    return '%s (- %s)' % (asMinutes(s), asMinutes(rs))"
   ]
  },
  {
   "cell_type": "code",
   "execution_count": 32,
   "id": "2f229dc8",
   "metadata": {
    "id": "C_z_k5IiM9uX",
    "papermill": {
     "duration": 0.017109,
     "end_time": "2022-12-27T02:42:48.453387",
     "exception": false,
     "start_time": "2022-12-27T02:42:48.436278",
     "status": "completed"
    },
    "tags": []
   },
   "outputs": [],
   "source": [
    "def trainIters(encoder, decoder, n_iters, print_every=1000, plot_every=100, \n",
    "               learning_rate=5e-5):\n",
    "    start = time.time()\n",
    "    plot_losses = []\n",
    "    print_loss_total = 0  # Reset every print_every\n",
    "    plot_loss_total = 0  # Reset every plot_every\n",
    "\n",
    "    encoder_optimizer = optim.Adam(encoder.parameters(), lr=learning_rate)\n",
    "    decoder_optimizer = optim.Adam(decoder.parameters(), lr=learning_rate)\n",
    "    training_pairs = [tensorsFromPair(random.choice(pairs))\n",
    "                      for i in range(n_iters)]\n",
    "    criterion = nn.NLLLoss()\n",
    "\n",
    "    for iter in range(1, n_iters + 1):\n",
    "        training_pair = training_pairs[iter - 1]\n",
    "        input_tensor = training_pair[0]\n",
    "        target_tensor = training_pair[1]\n",
    "\n",
    "        loss = train(input_tensor, target_tensor, encoder,\n",
    "                     decoder, encoder_optimizer, decoder_optimizer, \n",
    "                     criterion,teacher_forcing_ratio = 1-iter/n_iters)\n",
    "        print_loss_total += loss\n",
    "        if iter % print_every == 0:\n",
    "            print_loss_avg = print_loss_total / print_every\n",
    "            print_loss_total = 0\n",
    "            print('%s (%d %d%%) %.4f' % (timeSince(start, iter / n_iters),\n",
    "                                         iter, iter / n_iters * 100, print_loss_avg))\n",
    "            if print_loss_avg < 0.01:\n",
    "                continue\n"
   ]
  },
  {
   "cell_type": "code",
   "execution_count": 15,
   "id": "bd1a7d39",
   "metadata": {
    "id": "3Bxf45h6M9ud",
    "papermill": {
     "duration": 0.016634,
     "end_time": "2022-12-27T02:42:48.475334",
     "exception": false,
     "start_time": "2022-12-27T02:42:48.458700",
     "status": "completed"
    },
    "tags": []
   },
   "outputs": [],
   "source": [
    "def evaluate(encoder, decoder, sentence, max_length=MAX_LENGTH):\n",
    "    with torch.no_grad():\n",
    "        input_tensor = tensorFromSentence(input_lang, sentence)\n",
    "        input_length = input_tensor.size()[0]\n",
    "        encoder_hidden = encoder.initHidden()\n",
    "\n",
    "        encoder_outputs = torch.zeros(max_length, encoder.hidden_size, device=device)\n",
    "\n",
    "        for ei in range(input_length):\n",
    "            encoder_output, encoder_hidden = encoder(\n",
    "                input_tensor[ei], encoder_hidden)\n",
    "            encoder_outputs[ei] = encoder_output[0, 0]\n",
    "\n",
    "        decoder_input = torch.tensor([[SOS_token]], device=device)  # SOS\n",
    "\n",
    "        decoder_hidden = encoder_hidden\n",
    "\n",
    "        decoded_words = []\n",
    "        decoder_attentions = torch.zeros(max_length, max_length)\n",
    "\n",
    "        for di in range(max_length):\n",
    "            decoder_output, decoder_hidden, decoder_attention = decoder(\n",
    "                decoder_input, decoder_hidden, encoder_outputs)\n",
    "            decoder_attentions[di] = decoder_attention.data\n",
    "            topv, topi = decoder_output.data.topk(1)\n",
    "            if topi.item() == EOS_token:\n",
    "                decoded_words.append('<EOS>')\n",
    "                break\n",
    "            else:\n",
    "                decoded_words.append(output_lang.index2word[topi.item()])\n",
    "\n",
    "            decoder_input = topi.squeeze().detach()\n",
    "\n",
    "        return decoded_words, decoder_attentions[:di + 1]"
   ]
  },
  {
   "cell_type": "code",
   "execution_count": 16,
   "id": "121bf6c4",
   "metadata": {
    "id": "1qUmQIGwM9uf",
    "papermill": {
     "duration": 0.01378,
     "end_time": "2022-12-27T02:42:48.494308",
     "exception": false,
     "start_time": "2022-12-27T02:42:48.480528",
     "status": "completed"
    },
    "tags": []
   },
   "outputs": [],
   "source": [
    "def evaluateRandomly(encoder, decoder, n=10):\n",
    "    for i in range(n):\n",
    "        pair = random.choice(pairs)\n",
    "        print('>', pair[0])\n",
    "        print('=', pair[1])\n",
    "        output_words, attentions = evaluate(encoder, decoder, pair[0])\n",
    "        output_sentence = ' '.join(output_words)\n",
    "        print('<', output_sentence)\n",
    "        print('')"
   ]
  },
  {
   "cell_type": "code",
   "execution_count": 17,
   "id": "6a5d5654",
   "metadata": {
    "executionInfo": {
     "elapsed": 1239015,
     "status": "ok",
     "timestamp": 1585811635577,
     "user": {
      "displayName": "Алексей Кузьмин",
      "photoUrl": "",
      "userId": "13824739836143424630"
     },
     "user_tz": -180
    },
    "id": "s_56t10oM9uh",
    "outputId": "e18f1e4f-453d-4266-c2a3-110f94d20308",
    "papermill": {
     "duration": 3.338265,
     "end_time": "2022-12-27T02:42:51.837727",
     "exception": false,
     "start_time": "2022-12-27T02:42:48.499462",
     "status": "completed"
    },
    "tags": []
   },
   "outputs": [],
   "source": [
    "hidden_size = 256\n",
    "encoder1 = EncoderRNN(input_lang.n_words, hidden_size).to(device)\n",
    "attn_decoder1 = AttnDecoderRNN(hidden_size, output_lang.n_words, dropout_p=0.1).to(device)\n",
    "\n"
   ]
  },
  {
   "cell_type": "code",
   "execution_count": 18,
   "id": "c7a1fd08",
   "metadata": {
    "papermill": {
     "duration": 1356.6448,
     "end_time": "2022-12-27T03:05:28.488266",
     "exception": false,
     "start_time": "2022-12-27T02:42:51.843466",
     "status": "completed"
    },
    "tags": []
   },
   "outputs": [
    {
     "name": "stdout",
     "output_type": "stream",
     "text": [
      "0m 24s (- 40m 14s) (1000 1%) 5.5383\n",
      "0m 48s (- 39m 39s) (2000 2%) 4.4987\n",
      "1m 18s (- 42m 2s) (3000 3%) 4.3849\n",
      "1m 57s (- 46m 59s) (4000 4%) 4.2219\n",
      "2m 38s (- 50m 4s) (5000 5%) 4.2636\n",
      "3m 19s (- 52m 3s) (6000 6%) 4.2065\n",
      "3m 55s (- 52m 6s) (7000 7%) 4.1659\n",
      "4m 23s (- 50m 25s) (8000 8%) 4.1212\n",
      "5m 5s (- 51m 27s) (9000 9%) 4.0816\n",
      "5m 48s (- 52m 13s) (10000 10%) 4.0752\n",
      "6m 32s (- 52m 52s) (11000 11%) 4.0398\n",
      "7m 17s (- 53m 27s) (12000 12%) 3.9903\n",
      "8m 2s (- 53m 51s) (13000 13%) 3.9323\n",
      "8m 48s (- 54m 6s) (14000 14%) 3.8942\n",
      "9m 25s (- 53m 24s) (15000 15%) 3.9311\n",
      "9m 53s (- 51m 57s) (16000 16%) 3.8314\n",
      "10m 20s (- 50m 30s) (17000 17%) 3.8174\n",
      "10m 47s (- 49m 8s) (18000 18%) 3.8966\n",
      "11m 13s (- 47m 51s) (19000 19%) 3.8317\n",
      "11m 39s (- 46m 36s) (20000 20%) 3.7398\n",
      "12m 5s (- 45m 29s) (21000 21%) 3.8329\n",
      "12m 31s (- 44m 22s) (22000 22%) 3.8312\n",
      "12m 55s (- 43m 16s) (23000 23%) 3.7666\n",
      "13m 19s (- 42m 12s) (24000 24%) 3.6756\n",
      "13m 44s (- 41m 13s) (25000 25%) 3.7493\n",
      "14m 8s (- 40m 15s) (26000 26%) 3.6991\n",
      "14m 33s (- 39m 20s) (27000 27%) 3.7072\n",
      "14m 58s (- 38m 29s) (28000 28%) 3.7012\n",
      "15m 22s (- 37m 39s) (29000 28%) 3.6299\n",
      "15m 48s (- 36m 52s) (30000 30%) 3.5581\n",
      "16m 13s (- 36m 6s) (31000 31%) 3.5464\n",
      "16m 38s (- 35m 21s) (32000 32%) 3.5912\n",
      "17m 3s (- 34m 37s) (33000 33%) 3.5345\n",
      "17m 28s (- 33m 54s) (34000 34%) 3.4806\n",
      "17m 52s (- 33m 11s) (35000 35%) 3.4778\n",
      "18m 18s (- 32m 32s) (36000 36%) 3.3885\n",
      "18m 45s (- 31m 55s) (37000 37%) 3.4698\n",
      "19m 10s (- 31m 16s) (38000 38%) 3.5159\n",
      "19m 34s (- 30m 36s) (39000 39%) 3.4317\n",
      "19m 58s (- 29m 58s) (40000 40%) 3.4338\n",
      "20m 24s (- 29m 21s) (41000 41%) 3.4603\n",
      "20m 49s (- 28m 45s) (42000 42%) 3.3056\n",
      "21m 15s (- 28m 11s) (43000 43%) 3.4573\n",
      "21m 42s (- 27m 37s) (44000 44%) 3.4337\n",
      "22m 6s (- 27m 1s) (45000 45%) 3.4016\n",
      "22m 32s (- 26m 27s) (46000 46%) 3.2834\n",
      "22m 56s (- 25m 52s) (47000 47%) 3.3013\n",
      "23m 21s (- 25m 18s) (48000 48%) 3.3560\n",
      "23m 45s (- 24m 44s) (49000 49%) 3.2570\n",
      "24m 9s (- 24m 9s) (50000 50%) 3.2012\n",
      "24m 34s (- 23m 36s) (51000 51%) 3.1654\n",
      "24m 59s (- 23m 4s) (52000 52%) 3.2899\n",
      "25m 24s (- 22m 31s) (53000 53%) 3.2956\n",
      "25m 48s (- 21m 59s) (54000 54%) 3.3842\n",
      "26m 12s (- 21m 26s) (55000 55%) 3.2425\n",
      "26m 36s (- 20m 54s) (56000 56%) 3.2204\n",
      "27m 0s (- 20m 22s) (57000 56%) 3.2288\n",
      "27m 24s (- 19m 50s) (58000 57%) 3.1613\n",
      "27m 48s (- 19m 19s) (59000 59%) 3.1515\n",
      "28m 12s (- 18m 48s) (60000 60%) 3.1820\n",
      "28m 36s (- 18m 17s) (61000 61%) 3.1428\n",
      "29m 0s (- 17m 46s) (62000 62%) 3.1833\n",
      "29m 24s (- 17m 16s) (63000 63%) 3.1914\n",
      "29m 48s (- 16m 46s) (64000 64%) 3.0837\n",
      "30m 13s (- 16m 16s) (65000 65%) 3.2012\n",
      "30m 37s (- 15m 46s) (66000 66%) 3.1322\n",
      "31m 1s (- 15m 16s) (67000 67%) 3.1856\n",
      "31m 25s (- 14m 47s) (68000 68%) 3.1524\n",
      "31m 49s (- 14m 18s) (69000 69%) 3.0776\n",
      "32m 14s (- 13m 49s) (70000 70%) 3.1108\n",
      "32m 39s (- 13m 20s) (71000 71%) 2.9865\n",
      "33m 3s (- 12m 51s) (72000 72%) 3.0605\n",
      "33m 28s (- 12m 22s) (73000 73%) 3.0958\n",
      "33m 51s (- 11m 53s) (74000 74%) 3.0631\n",
      "34m 15s (- 11m 25s) (75000 75%) 2.9967\n",
      "34m 39s (- 10m 56s) (76000 76%) 2.9493\n",
      "35m 2s (- 10m 27s) (77000 77%) 2.9636\n",
      "35m 25s (- 9m 59s) (78000 78%) 2.9398\n",
      "35m 49s (- 9m 31s) (79000 79%) 2.9161\n",
      "36m 13s (- 9m 3s) (80000 80%) 2.9710\n",
      "36m 36s (- 8m 35s) (81000 81%) 2.8652\n",
      "36m 59s (- 8m 7s) (82000 82%) 3.0430\n",
      "37m 24s (- 7m 39s) (83000 83%) 2.9877\n",
      "37m 48s (- 7m 12s) (84000 84%) 2.9651\n",
      "38m 13s (- 6m 44s) (85000 85%) 3.0167\n",
      "38m 37s (- 6m 17s) (86000 86%) 2.9083\n",
      "38m 59s (- 5m 49s) (87000 87%) 2.8992\n",
      "39m 22s (- 5m 22s) (88000 88%) 2.9180\n",
      "39m 44s (- 4m 54s) (89000 89%) 2.8282\n",
      "40m 6s (- 4m 27s) (90000 90%) 2.8424\n",
      "40m 28s (- 4m 0s) (91000 91%) 2.8837\n",
      "40m 50s (- 3m 33s) (92000 92%) 2.9014\n",
      "41m 12s (- 3m 6s) (93000 93%) 2.8116\n",
      "41m 34s (- 2m 39s) (94000 94%) 2.7659\n",
      "41m 57s (- 2m 12s) (95000 95%) 2.9411\n",
      "42m 18s (- 1m 45s) (96000 96%) 2.8322\n",
      "42m 41s (- 1m 19s) (97000 97%) 2.8073\n",
      "43m 4s (- 0m 52s) (98000 98%) 2.7669\n",
      "43m 25s (- 0m 26s) (99000 99%) 2.8443\n",
      "43m 46s (- 0m 0s) (100000 100%) 2.7575\n"
     ]
    }
   ],
   "source": [
    "trainIters(encoder1, attn_decoder1, 100_000, print_every=5000)"
   ]
  },
  {
   "cell_type": "code",
   "execution_count": 19,
   "id": "7ab730d9",
   "metadata": {
    "executionInfo": {
     "elapsed": 1228237,
     "status": "ok",
     "timestamp": 1585811635578,
     "user": {
      "displayName": "Алексей Кузьмин",
      "photoUrl": "",
      "userId": "13824739836143424630"
     },
     "user_tz": -180
    },
    "id": "xEoEylSyM9uj",
    "outputId": "94ddd55b-0f6c-4af5-fb58-f5d4422ae1d2",
    "papermill": {
     "duration": 0.117396,
     "end_time": "2022-12-27T03:05:28.613900",
     "exception": false,
     "start_time": "2022-12-27T03:05:28.496504",
     "status": "completed"
    },
    "tags": []
   },
   "outputs": [
    {
     "name": "stdout",
     "output_type": "stream",
     "text": [
      "> i m a stuntman .\n",
      "= я каскадер .\n",
      "< я я я я я я я я я я\n",
      "\n",
      "> we re too close .\n",
      "= мы слишком близко .\n",
      "< <EOS>\n",
      "\n",
      "> i m still in boston .\n",
      "= я все еще в бостоне .\n",
      "< . . . . . . . . . .\n",
      "\n",
      "> i m fearless .\n",
      "= я бесстрашныи .\n",
      "< . . . . . . . . . .\n",
      "\n",
      "> they re in love .\n",
      "= они влюблены .\n",
      "< . . . . . . . . . .\n",
      "\n",
      "> we re being called .\n",
      "= нас вызывают .\n",
      "< мы . . . . . . . . .\n",
      "\n",
      "> they are all happy .\n",
      "= они все счастливы .\n",
      "< они они они они они они они они они они\n",
      "\n",
      "> you re not bleeding .\n",
      "= у тебя не течет кровь .\n",
      "< <EOS>\n",
      "\n",
      "> they re dead .\n",
      "= они мертвы .\n",
      "< они они они они они они они они они они\n",
      "\n",
      "> i m almost ready .\n",
      "= я почти готов .\n",
      "< почти почти почти почти почти почти почти почти почти почти\n",
      "\n",
      "> i m in a good mood .\n",
      "= у меня хорошее настроение .\n",
      "< . . . . . . . . . .\n",
      "\n",
      "> i m not hungry now .\n",
      "= я сеичас есть не хочу .\n",
      "< . . . . . . . . . .\n",
      "\n",
      "> i m in need of help .\n",
      "= мне требуется помощь .\n",
      "< . . . . . . . . . .\n",
      "\n",
      "> i m dying .\n",
      "= я умираю .\n",
      "< я я я я я я я я я я\n",
      "\n",
      "> you are beautiful .\n",
      "= вы красивые .\n",
      "< <EOS>\n",
      "\n",
      "> i m crazy .\n",
      "= я псих .\n",
      "< я <EOS>\n",
      "\n",
      "> you re small .\n",
      "= ты маленькая .\n",
      "< . . . . . . . . . .\n",
      "\n",
      "> you re a pig .\n",
      "= ты свинья .\n",
      "< . . . . . . . . . .\n",
      "\n",
      "> we re not sure .\n",
      "= мы не уверены .\n",
      "< мы мы мы мы мы мы мы мы мы мы\n",
      "\n",
      "> i m honest .\n",
      "= я честныи .\n",
      "< я я я я я я я я я я\n",
      "\n"
     ]
    }
   ],
   "source": [
    "evaluateRandomly(encoder1, attn_decoder1,20)"
   ]
  },
  {
   "cell_type": "code",
   "execution_count": null,
   "id": "3cb78b12",
   "metadata": {
    "executionInfo": {
     "elapsed": 1116,
     "status": "ok",
     "timestamp": 1585811694987,
     "user": {
      "displayName": "Алексей Кузьмин",
      "photoUrl": "",
      "userId": "13824739836143424630"
     },
     "user_tz": -180
    },
    "id": "vzc3k6D0qn9W",
    "outputId": "26983998-4520-47ca-e925-cb5b0d2bc286",
    "papermill": {
     "duration": 0.007809,
     "end_time": "2022-12-27T03:05:28.630039",
     "exception": false,
     "start_time": "2022-12-27T03:05:28.622230",
     "status": "completed"
    },
    "tags": []
   },
   "outputs": [],
   "source": []
  },
  {
   "cell_type": "code",
   "execution_count": null,
   "id": "f1db2843",
   "metadata": {
    "executionInfo": {
     "elapsed": 1440,
     "status": "ok",
     "timestamp": 1585811699817,
     "user": {
      "displayName": "Алексей Кузьмин",
      "photoUrl": "",
      "userId": "13824739836143424630"
     },
     "user_tz": -180
    },
    "id": "6fqVhe4yqpeY",
    "outputId": "e2297caa-8592-493a-cf04-f4ee406f58f3",
    "papermill": {
     "duration": 0.00765,
     "end_time": "2022-12-27T03:05:28.645579",
     "exception": false,
     "start_time": "2022-12-27T03:05:28.637929",
     "status": "completed"
    },
    "tags": []
   },
   "outputs": [],
   "source": []
  },
  {
   "cell_type": "code",
   "execution_count": null,
   "id": "97f7e16e",
   "metadata": {
    "id": "WcoNw3Tzqs8q",
    "papermill": {
     "duration": 0.007502,
     "end_time": "2022-12-27T03:05:28.660812",
     "exception": false,
     "start_time": "2022-12-27T03:05:28.653310",
     "status": "completed"
    },
    "tags": []
   },
   "outputs": [],
   "source": []
  }
 ],
 "metadata": {
  "kernelspec": {
   "display_name": "Python 3 (ipykernel)",
   "language": "python",
   "name": "python3"
  },
  "language_info": {
   "codemirror_mode": {
    "name": "ipython",
    "version": 3
   },
   "file_extension": ".py",
   "mimetype": "text/x-python",
   "name": "python",
   "nbconvert_exporter": "python",
   "pygments_lexer": "ipython3",
   "version": "3.8.13"
  },
  "papermill": {
   "default_parameters": {},
   "duration": 1390.065594,
   "end_time": "2022-12-27T03:05:30.794031",
   "environment_variables": {},
   "exception": null,
   "input_path": "__notebook__.ipynb",
   "output_path": "__notebook__.ipynb",
   "parameters": {},
   "start_time": "2022-12-27T02:42:20.728437",
   "version": "2.3.4"
  }
 },
 "nbformat": 4,
 "nbformat_minor": 5
}
